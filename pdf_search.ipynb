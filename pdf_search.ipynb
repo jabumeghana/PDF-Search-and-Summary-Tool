{
 "cells": [
  {
   "cell_type": "code",
   "execution_count": 3,
   "id": "196822f5-8eaf-45c8-93cd-64ea4e9f6c15",
   "metadata": {
    "scrolled": true
   },
   "outputs": [
    {
     "name": "stdin",
     "output_type": "stream",
     "text": [
      "C:/Users/MEDHA TRUST/OneDrive/New folder/gdk-pdf C:/Users/MEDHA TRUST/OneDrive/New folder/gdk-pdf\n",
      "Enter the keyword to search:  nlp\n"
     ]
    },
    {
     "name": "stdout",
     "output_type": "stream",
     "text": [
      "✅ Done! Report saved as summary_report.txt\n"
     ]
    }
   ],
   "source": [
    "import os\n",
    "import pdfplumber\n",
    "\n",
    "# Ask user to type folder path and keyword\n",
    "folder_path = input(\"C:/Users/MEDHA TRUST/OneDrive/New folder/gdk-pdf\")\n",
    "keyword = input(\"Enter the keyword to search: \").lower()\n",
    "\n",
    "# Create report file\n",
    "output_file = open(\"summary_report.txt\", \"w\", encoding=\"utf-8\")\n",
    "output_file.write(\"PDF File | Page Number | Line with Keyword\\n\")\n",
    "output_file.write(\"----------------------------------------------------\\n\")\n",
    "\n",
    "# Loop through all PDFs\n",
    "for filename in os.listdir(folder_path):\n",
    "    if filename.endswith(\".pdf\"):\n",
    "        file_path = os.path.join(folder_path, filename)\n",
    "        \n",
    "        with pdfplumber.open(file_path) as pdf:\n",
    "            for i, page in enumerate(pdf.pages):\n",
    "                text = page.extract_text()\n",
    "                if text:\n",
    "                    lines = text.split(\"\\n\")\n",
    "                    for line in lines:\n",
    "                        if keyword in line.lower():\n",
    "                            output_file.write(f\"{filename} | Page {i+1} | {line.strip()}\\n\")\n",
    "\n",
    "output_file.close()\n",
    "print(\"✅ Done! Report saved as summary_report.txt\")\n"
   ]
  },
  {
   "cell_type": "code",
   "execution_count": null,
   "id": "babef4f0-97c8-42a7-812e-15255ef85d73",
   "metadata": {},
   "outputs": [],
   "source": []
  }
 ],
 "metadata": {
  "kernelspec": {
   "display_name": "Python 3 (ipykernel)",
   "language": "python",
   "name": "python3"
  },
  "language_info": {
   "codemirror_mode": {
    "name": "ipython",
    "version": 3
   },
   "file_extension": ".py",
   "mimetype": "text/x-python",
   "name": "python",
   "nbconvert_exporter": "python",
   "pygments_lexer": "ipython3",
   "version": "3.13.5"
  }
 },
 "nbformat": 4,
 "nbformat_minor": 5
}
