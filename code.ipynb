{
 "cells": [
  {
   "cell_type": "code",
   "execution_count": 1,
   "id": "632af4f3-c5e3-48b5-b566-d360ca9140d6",
   "metadata": {},
   "outputs": [
    {
     "name": "stdin",
     "output_type": "stream",
     "text": [
      "Enter the keyword to search:  attributes\n"
     ]
    },
    {
     "name": "stdout",
     "output_type": "stream",
     "text": [
      " Done! Report saved as C:/Users/MEDHA TRUST/OneDrive/New folder/gdk-pdf\\summary_report.txt\n"
     ]
    }
   ],
   "source": [
    "import os\n",
    "import pdfplumber\n",
    "import warnings\n",
    "import logging\n",
    "logging.getLogger(\"pdfminer\").setLevel(logging.ERROR)\n",
    "warnings.filterwarnings(\"ignore\")\n",
    "folder_path = r\"C:/Users/MEDHA TRUST/OneDrive/New folder/gdk-pdf\"\n",
    "keyword = input(\"Enter the keyword to search: \").lower()\n",
    "output_path = os.path.join(folder_path, \"summary_report.txt\")\n",
    "output_file = open(output_path, \"w\", encoding=\"utf-8\")\n",
    "output_file.write(\"PDF File | Page Number | Line with Keyword\\n\")\n",
    "output_file.write(\"----------------------------------------------------\\n\")\n",
    "for filename in os.listdir(folder_path):\n",
    "    if filename.endswith(\".pdf\"):\n",
    "        file_path = os.path.join(folder_path, filename)\n",
    "        try:\n",
    "            with pdfplumber.open(file_path) as pdf:\n",
    "                for i, page in enumerate(pdf.pages):\n",
    "                    text = page.extract_text()\n",
    "                    if text:\n",
    "                        lines = text.split(\"\\n\")\n",
    "                        for line in lines:\n",
    "                            if keyword in line.lower():\n",
    "                                output_file.write(f\"{filename} | Page {i+1} | {line.strip()}\\n\")\n",
    "        except Exception as e:\n",
    "            pass \n",
    "\n",
    "output_file.close()\n",
    "print(f\" Done! Report saved as {output_path}\")\n"
   ]
  },
  {
   "cell_type": "code",
   "execution_count": null,
   "id": "06fdf976-9ade-4964-9f61-383c3ea47911",
   "metadata": {},
   "outputs": [],
   "source": []
  }
 ],
 "metadata": {
  "kernelspec": {
   "display_name": "Python 3 (ipykernel)",
   "language": "python",
   "name": "python3"
  },
  "language_info": {
   "codemirror_mode": {
    "name": "ipython",
    "version": 3
   },
   "file_extension": ".py",
   "mimetype": "text/x-python",
   "name": "python",
   "nbconvert_exporter": "python",
   "pygments_lexer": "ipython3",
   "version": "3.13.5"
  }
 },
 "nbformat": 4,
 "nbformat_minor": 5
}
